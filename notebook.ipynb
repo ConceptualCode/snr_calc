{
 "cells": [
  {
   "cell_type": "code",
   "execution_count": 17,
   "metadata": {},
   "outputs": [],
   "source": [
    "from snr_package.snr_calc import process_audio_file"
   ]
  },
  {
   "cell_type": "code",
   "execution_count": 19,
   "metadata": {},
   "outputs": [
    {
     "name": "stdout",
     "output_type": "stream",
     "text": [
      "SNR for R!01042022_110333!1558!1500!WG3862!NA!1637183421!0!R (1).wav: 0.5414953231811523 dB\n"
     ]
    }
   ],
   "source": [
    "# Path to the audio file\n",
    "audio_file_path = 'R!01042022_110333!1558!1500!WG3862!NA!1637183421!0!R (1).wav'\n",
    "\n",
    "# Calculate SNR with default parameters (signal_freq_range=(300, 3000) Hz)\n",
    "snr_value = process_audio_file(audio_file_path)\n",
    "\n",
    "if snr_value is not None:\n",
    "    print(f\"SNR for {audio_file_path}: {snr_value} dB\")\n",
    "else:\n",
    "    print(\"Error calculating SNR.\")\n"
   ]
  },
  {
   "cell_type": "code",
   "execution_count": null,
   "metadata": {},
   "outputs": [],
   "source": []
  }
 ],
 "metadata": {
  "kernelspec": {
   "display_name": "myenv",
   "language": "python",
   "name": "python3"
  },
  "language_info": {
   "codemirror_mode": {
    "name": "ipython",
    "version": 3
   },
   "file_extension": ".py",
   "mimetype": "text/x-python",
   "name": "python",
   "nbconvert_exporter": "python",
   "pygments_lexer": "ipython3",
   "version": "3.10.12"
  }
 },
 "nbformat": 4,
 "nbformat_minor": 2
}
